{
  "nbformat": 4,
  "nbformat_minor": 0,
  "metadata": {
    "colab": {
      "provenance": [],
      "authorship_tag": "ABX9TyPhVdoC8nhhfLzxZmiOHz+e",
      "include_colab_link": true
    },
    "kernelspec": {
      "name": "python3",
      "display_name": "Python 3"
    },
    "language_info": {
      "name": "python"
    }
  },
  "cells": [
    {
      "cell_type": "markdown",
      "metadata": {
        "id": "view-in-github",
        "colab_type": "text"
      },
      "source": [
        "<a href=\"https://colab.research.google.com/github/LorenzBiol/CPE0332.1-1-Elective-3/blob/main/Loop_Statement.ipynb\" target=\"_parent\"><img src=\"https://colab.research.google.com/assets/colab-badge.svg\" alt=\"Open In Colab\"/></a>"
      ]
    },
    {
      "cell_type": "markdown",
      "source": [
        "A FOR loop is used for reiterating over a sequence (that is either tuple or a dictionary)"
      ],
      "metadata": {
        "id": "8Y2eGoz3ewkD"
      }
    },
    {
      "cell_type": "code",
      "execution_count": null,
      "metadata": {
        "colab": {
          "base_uri": "https://localhost:8080/"
        },
        "id": "xuohecuseLaT",
        "outputId": "758610fa-bae1-4b5d-cd34-85b9e3906db5"
      },
      "outputs": [
        {
          "output_type": "stream",
          "name": "stdout",
          "text": [
            "Monday\n",
            "Tuesday\n",
            "Wednesday\n",
            "Thursday\n",
            "Friday\n",
            "Saturday\n",
            "Sunday\n"
          ]
        }
      ],
      "source": [
        "week = ('Monday', 'Tuesday', 'Wednesday', 'Thursday', 'Friday', 'Saturday', 'Sunday')\n",
        "\n",
        "for x in week:\n",
        "    print(x)"
      ]
    },
    {
      "cell_type": "markdown",
      "source": [
        "**The Break Statement**"
      ],
      "metadata": {
        "id": "CQZhR6XBge9L"
      }
    },
    {
      "cell_type": "code",
      "source": [
        "week = ('Sunday', 'Monday', 'Tuesday', 'Wednesday', 'Thursday', 'Friday', 'Saturday')\n",
        "\n",
        "for x in week:\n",
        "    print(x)\n",
        "    if x == 'Thursday':\n",
        "        break"
      ],
      "metadata": {
        "colab": {
          "base_uri": "https://localhost:8080/"
        },
        "id": "i3FIhg7rgfRj",
        "outputId": "a4677da5-db27-4a2c-9f89-3dd84d421ec4"
      },
      "execution_count": null,
      "outputs": [
        {
          "output_type": "stream",
          "name": "stdout",
          "text": [
            "Sunday\n",
            "Monday\n",
            "Tuesday\n",
            "Wednesday\n",
            "Thursday\n"
          ]
        }
      ]
    },
    {
      "cell_type": "markdown",
      "source": [
        "**Another Sample**"
      ],
      "metadata": {
        "id": "THVWzinviLYL"
      }
    },
    {
      "cell_type": "code",
      "source": [
        "week = ('Sunday', 'Monday', 'Tuesday', 'Wednesday', 'Thursday', 'Friday', 'Saturday')\n",
        "\n",
        "for x in week:\n",
        "    if x == 'Thursday':\n",
        "        break\n",
        "    print(x)\n"
      ],
      "metadata": {
        "colab": {
          "base_uri": "https://localhost:8080/"
        },
        "id": "jOcTDoqOiOLr",
        "outputId": "42b1eab4-ef17-4f9a-ecc3-9b143b34f310"
      },
      "execution_count": null,
      "outputs": [
        {
          "output_type": "stream",
          "name": "stdout",
          "text": [
            "Sunday\n",
            "Monday\n",
            "Tuesday\n",
            "Wednesday\n"
          ]
        }
      ]
    },
    {
      "cell_type": "markdown",
      "source": [
        "**Looping through A String**"
      ],
      "metadata": {
        "id": "7I59lrrbiKvb"
      }
    },
    {
      "cell_type": "code",
      "source": [
        "for x in 'week':\n",
        "    print(x)"
      ],
      "metadata": {
        "colab": {
          "base_uri": "https://localhost:8080/"
        },
        "id": "ZMIxOsxQjJ27",
        "outputId": "09250267-790c-4f23-e2d3-64b74f4304c4"
      },
      "execution_count": null,
      "outputs": [
        {
          "output_type": "stream",
          "name": "stdout",
          "text": [
            "w\n",
            "e\n",
            "e\n",
            "k\n"
          ]
        }
      ]
    },
    {
      "cell_type": "markdown",
      "source": [
        "Application No. 3\n",
        "\n",
        "Display only \"Thursday\" by using break statement\n",
        "\n",
        "\n",
        "\n"
      ],
      "metadata": {
        "id": "nYZYGi8vjmBL"
      }
    },
    {
      "cell_type": "code",
      "source": [
        "week = ('Sunday', 'Monday', 'Tuesday', 'Wednesday', 'Thursday', 'Friday', 'Saturday')\n",
        "\n",
        "for x in week:\n",
        "    if x == 'Thursday':\n",
        "       print (x)\n",
        "       break\n",
        "\n"
      ],
      "metadata": {
        "colab": {
          "base_uri": "https://localhost:8080/"
        },
        "id": "iKIz9PB2jmbC",
        "outputId": "2267167d-c399-488e-f420-5c488b9289f9"
      },
      "execution_count": null,
      "outputs": [
        {
          "output_type": "stream",
          "name": "stdout",
          "text": [
            "Thursday\n"
          ]
        }
      ]
    },
    {
      "cell_type": "markdown",
      "source": [
        "**Range Function**"
      ],
      "metadata": {
        "id": "mfmjUTIclka7"
      }
    },
    {
      "cell_type": "code",
      "source": [
        "for x in range(5):\n",
        "    print(x)"
      ],
      "metadata": {
        "colab": {
          "base_uri": "https://localhost:8080/"
        },
        "id": "Mblnex4JllZr",
        "outputId": "83c05275-1fef-48ac-ee3a-447bd4f7832f"
      },
      "execution_count": null,
      "outputs": [
        {
          "output_type": "stream",
          "name": "stdout",
          "text": [
            "0\n",
            "1\n",
            "2\n",
            "3\n",
            "4\n"
          ]
        }
      ]
    },
    {
      "cell_type": "code",
      "source": [
        "for x in range(2, 6):\n",
        "    print(x)"
      ],
      "metadata": {
        "colab": {
          "base_uri": "https://localhost:8080/"
        },
        "id": "I_gAf2hSl0S7",
        "outputId": "d503afa3-11b6-437c-b099-74ca2a905f3f"
      },
      "execution_count": null,
      "outputs": [
        {
          "output_type": "stream",
          "name": "stdout",
          "text": [
            "2\n",
            "3\n",
            "4\n",
            "5\n"
          ]
        }
      ]
    },
    {
      "cell_type": "code",
      "source": [
        "for x in range(2, 6, 2):\n",
        "    print(x)"
      ],
      "metadata": {
        "colab": {
          "base_uri": "https://localhost:8080/"
        },
        "id": "ksnLN06QmHej",
        "outputId": "3b15200f-9904-4c27-90ab-570764475fe0"
      },
      "execution_count": null,
      "outputs": [
        {
          "output_type": "stream",
          "name": "stdout",
          "text": [
            "2\n",
            "4\n"
          ]
        }
      ]
    },
    {
      "cell_type": "markdown",
      "source": [
        "**Nested Loop**"
      ],
      "metadata": {
        "id": "Z25V2ZoNmxpj"
      }
    },
    {
      "cell_type": "code",
      "source": [
        "adjective = ('red', 'big', 'tasty')\n",
        "fruits = ('apple', 'banana', 'cherry')\n",
        "\n",
        "for x in adjective:\n",
        "    for y in fruits:\n",
        "        print(x, y)"
      ],
      "metadata": {
        "colab": {
          "base_uri": "https://localhost:8080/"
        },
        "id": "K3dh_YKgmzWj",
        "outputId": "ecd97fce-cfbf-4dba-e078-925151848946"
      },
      "execution_count": null,
      "outputs": [
        {
          "output_type": "stream",
          "name": "stdout",
          "text": [
            "red apple\n",
            "red banana\n",
            "red cherry\n",
            "big apple\n",
            "big banana\n",
            "big cherry\n",
            "tasty apple\n",
            "tasty banana\n",
            "tasty cherry\n"
          ]
        }
      ]
    },
    {
      "cell_type": "markdown",
      "source": [
        "**While Statement**"
      ],
      "metadata": {
        "id": "iAjbypqcn5N7"
      }
    },
    {
      "cell_type": "code",
      "source": [
        "i = 1\n",
        "while i < 6:\n",
        "    print(i)\n",
        "    i += 1"
      ],
      "metadata": {
        "colab": {
          "base_uri": "https://localhost:8080/"
        },
        "id": "wdUHmFOTn7Xb",
        "outputId": "02c0ff31-5f76-4f00-cc9e-74834561b1cb"
      },
      "execution_count": null,
      "outputs": [
        {
          "output_type": "stream",
          "name": "stdout",
          "text": [
            "1\n",
            "2\n",
            "3\n",
            "4\n",
            "5\n"
          ]
        }
      ]
    },
    {
      "cell_type": "markdown",
      "source": [
        "**While Loop with Break Statement**"
      ],
      "metadata": {
        "id": "emcmrnjwocGj"
      }
    },
    {
      "cell_type": "code",
      "source": [
        "i = 1\n",
        "while i < 6:\n",
        "    print(i)\n",
        "    if i == 3:\n",
        "        break\n",
        "    i += 1"
      ],
      "metadata": {
        "colab": {
          "base_uri": "https://localhost:8080/"
        },
        "id": "BLUgRsjTo4WD",
        "outputId": "63272a73-1f73-4d98-efce-40f34bc9bad3"
      },
      "execution_count": null,
      "outputs": [
        {
          "output_type": "stream",
          "name": "stdout",
          "text": [
            "1\n",
            "2\n",
            "3\n"
          ]
        }
      ]
    },
    {
      "cell_type": "markdown",
      "source": [
        "**Continue Statement**\n",
        "\n"
      ],
      "metadata": {
        "id": "gFHltTzPpV17"
      }
    },
    {
      "cell_type": "code",
      "source": [
        "i = 0\n",
        "while i < 6:\n",
        "    i += 1\n",
        "    if i == 3:\n",
        "        continue\n",
        "    print(i)"
      ],
      "metadata": {
        "colab": {
          "base_uri": "https://localhost:8080/"
        },
        "id": "5gQpuGBzpYbU",
        "outputId": "0b975a9a-0057-4fff-cc0c-e6a049df6b6c"
      },
      "execution_count": null,
      "outputs": [
        {
          "output_type": "stream",
          "name": "stdout",
          "text": [
            "1\n",
            "2\n",
            "4\n",
            "5\n",
            "6\n"
          ]
        }
      ]
    },
    {
      "cell_type": "markdown",
      "source": [
        "**Else Statement**"
      ],
      "metadata": {
        "id": "DFcD1VjdqSU0"
      }
    },
    {
      "cell_type": "code",
      "source": [
        "i = 1\n",
        "while i < 6:\n",
        "    print(i)\n",
        "    i += 1\n",
        "else:\n",
        "    print('i is no longer less than 6')"
      ],
      "metadata": {
        "colab": {
          "base_uri": "https://localhost:8080/"
        },
        "id": "pyWbspL2qYiT",
        "outputId": "fcf9e99e-88b3-47b9-8768-b7db09e402f6"
      },
      "execution_count": null,
      "outputs": [
        {
          "output_type": "stream",
          "name": "stdout",
          "text": [
            "1\n",
            "2\n",
            "3\n",
            "4\n",
            "5\n",
            "i is no longer less than 6\n"
          ]
        }
      ]
    },
    {
      "cell_type": "markdown",
      "source": [
        "Create a python program that displays:\n",
        "\n",
        "\n",
        "Hello 0\n",
        "Hello 1\n",
        "Hello 2\n",
        "Hello 3\n",
        "Hello 4\n",
        "Hello 5\n",
        "Hello 6\n",
        "Hello 7\n",
        "Hello 8\n",
        "Hello 9\n",
        "Hello 10"
      ],
      "metadata": {
        "id": "YnI2SUdgr0Z7"
      }
    },
    {
      "cell_type": "code",
      "source": [
        "for i in range(11):\n",
        "    print(f\"Hello {i}\")"
      ],
      "metadata": {
        "colab": {
          "base_uri": "https://localhost:8080/"
        },
        "id": "naWlsfL6r3V0",
        "outputId": "c80bcbda-ff14-4bb8-8cfb-48f319cc6138"
      },
      "execution_count": null,
      "outputs": [
        {
          "output_type": "stream",
          "name": "stdout",
          "text": [
            "Hello 0\n",
            "Hello 1\n",
            "Hello 2\n",
            "Hello 3\n",
            "Hello 4\n",
            "Hello 5\n",
            "Hello 6\n",
            "Hello 7\n",
            "Hello 8\n",
            "Hello 9\n",
            "Hello 10\n"
          ]
        }
      ]
    },
    {
      "cell_type": "markdown",
      "source": [
        "Create a python program that displays integers less than 10 but not less than 3\n"
      ],
      "metadata": {
        "id": "Q7CJFuZiq6PM"
      }
    },
    {
      "cell_type": "code",
      "source": [
        "for i in range(3, 10):\n",
        "    print(i)\n",
        "\n",
        "    #FOR LOOP"
      ],
      "metadata": {
        "colab": {
          "base_uri": "https://localhost:8080/"
        },
        "id": "WS3H_0-rq6jE",
        "outputId": "5ec0e783-001c-4fdc-f99b-77c4738809fe"
      },
      "execution_count": null,
      "outputs": [
        {
          "output_type": "stream",
          "name": "stdout",
          "text": [
            "3\n",
            "4\n",
            "5\n",
            "6\n",
            "7\n",
            "8\n",
            "9\n"
          ]
        }
      ]
    },
    {
      "cell_type": "code",
      "source": [
        "i = 3\n",
        "while i < 10:\n",
        "    print(i)\n",
        "    i += 1\n",
        "\n",
        "  #WHILE LOOP"
      ],
      "metadata": {
        "colab": {
          "base_uri": "https://localhost:8080/"
        },
        "id": "iqJWNrbUteLU",
        "outputId": "f7cc7c9b-07fc-45b4-cc87-d51cc3de7409"
      },
      "execution_count": null,
      "outputs": [
        {
          "output_type": "stream",
          "name": "stdout",
          "text": [
            "3\n",
            "4\n",
            "5\n",
            "6\n",
            "7\n",
            "8\n",
            "9\n"
          ]
        }
      ]
    },
    {
      "cell_type": "code",
      "source": [],
      "metadata": {
        "id": "SlJ8b7Nbtlxb"
      },
      "execution_count": null,
      "outputs": []
    }
  ]
}