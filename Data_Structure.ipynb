{
  "nbformat": 4,
  "nbformat_minor": 0,
  "metadata": {
    "colab": {
      "provenance": [],
      "authorship_tag": "ABX9TyOZLGznLxPZqEhO/v3OzxLH",
      "include_colab_link": true
    },
    "kernelspec": {
      "name": "python3",
      "display_name": "Python 3"
    },
    "language_info": {
      "name": "python"
    }
  },
  "cells": [
    {
      "cell_type": "markdown",
      "metadata": {
        "id": "view-in-github",
        "colab_type": "text"
      },
      "source": [
        "<a href=\"https://colab.research.google.com/github/LorenzBiol/CPE0332.1-1-Elective-3/blob/main/Data_Structure.ipynb\" target=\"_parent\"><img src=\"https://colab.research.google.com/assets/colab-badge.svg\" alt=\"Open In Colab\"/></a>"
      ]
    },
    {
      "cell_type": "markdown",
      "source": [
        "**Python Variables** - is containers which store values.\n",
        "\n",
        "**Data Types** - are the classification or categorization of knowledge items.\n",
        "\n",
        "\n"
      ],
      "metadata": {
        "id": "wJkr07jP-bIk"
      }
    },
    {
      "cell_type": "markdown",
      "source": [
        "Python uses five standard data types:\n",
        "\n",
        "\n",
        "1.   Numbers\n",
        "2.   Strings\n",
        "3.   Lists\n",
        "4.   Tuples\n",
        "5.   Dictionaries\n",
        "\n"
      ],
      "metadata": {
        "id": "vG7sUBnmAVW1"
      }
    },
    {
      "cell_type": "markdown",
      "source": [
        "**Arithmetic**"
      ],
      "metadata": {
        "id": "sd9GzE1TAqdU"
      }
    },
    {
      "cell_type": "code",
      "source": [
        "a = 5 + 3   #Addition\n",
        "a = 5 - 3   #Subtraction\n",
        "a = 5 * 3   #Multiplication\n",
        "a = 5 / 3   #Division\n",
        "a = 5 % 3   #Modulus\n",
        "a = 5 ** 3  #Exponent\n",
        "a = 5 // 3  #Floor Division\n"
      ],
      "metadata": {
        "id": "L3u7kTTWAlTk"
      },
      "execution_count": null,
      "outputs": []
    },
    {
      "cell_type": "code",
      "source": [
        "a = 5\n",
        "a += 1    #Increment\n",
        "\n",
        "a = 5\n",
        "a -= 1    #Decrement\n",
        "\n",
        "a = 'Hello' + 'World'   #String Concatenation\n",
        "\n",
        "a = 3 + 5 - 6 * 2 / 4   #Complex Expressions"
      ],
      "metadata": {
        "id": "wZiwA-z7Bhds"
      },
      "execution_count": null,
      "outputs": []
    },
    {
      "cell_type": "markdown",
      "source": [
        "**Conditional Statements** - Decision-making in a programming language is automated using conditional statements, in which Python evaluates the code to see if it meets the specified conditions.\n",
        "\n",
        "1.  Boolean Conditions\n",
        "2.  String Conditions\n",
        "3.  Numerical Conditions\n",
        "\n"
      ],
      "metadata": {
        "id": "3lScAnTWCEHc"
      }
    },
    {
      "cell_type": "markdown",
      "source": [
        "**Loops **- looping means repeating something over and over until a particular condition is satisfied.\n",
        "\n",
        "\n",
        "1.   For Loops\n",
        "2.   While Loops\n",
        "3.   Nested Loops\n",
        "\n"
      ],
      "metadata": {
        "id": "zuloeHN1CYKO"
      }
    },
    {
      "cell_type": "markdown",
      "source": [
        "**Functions** - functions are defined with the keyword def before the function_name."
      ],
      "metadata": {
        "id": "CUfzuSsaCs-k"
      }
    },
    {
      "cell_type": "code",
      "source": [
        "def remainder (n, m):\n",
        "  while True:\n",
        "    if n - m < 0:\n",
        "      return n\n",
        "    else:\n",
        "      n = n - m\n",
        "\n",
        "remainder (10, 4)"
      ],
      "metadata": {
        "colab": {
          "base_uri": "https://localhost:8080/"
        },
        "id": "pGA_cpkiEK_N",
        "outputId": "ff11bdc6-d959-4bba-d86b-79ef57ef3b8e"
      },
      "execution_count": null,
      "outputs": [
        {
          "output_type": "execute_result",
          "data": {
            "text/plain": [
              "2"
            ]
          },
          "metadata": {},
          "execution_count": 16
        }
      ]
    },
    {
      "cell_type": "markdown",
      "source": [
        "**Lists** - Lists are used to store multiple items in a single variable."
      ],
      "metadata": {
        "id": "OtjzdNXBC2oT"
      }
    },
    {
      "cell_type": "code",
      "source": [
        "pi = 3.14159\n",
        "varlist = [1, 2, 'a', 'b', 'Hello', pi]\n",
        "print(varlist[0])\n"
      ],
      "metadata": {
        "colab": {
          "base_uri": "https://localhost:8080/"
        },
        "id": "MJ5Y_IgCDC1z",
        "outputId": "90fb7457-d7a2-4df6-8eb6-1ac099c8bcab"
      },
      "execution_count": null,
      "outputs": [
        {
          "output_type": "stream",
          "name": "stdout",
          "text": [
            "1\n"
          ]
        }
      ]
    },
    {
      "cell_type": "code",
      "source": [
        "print (varlist[4])"
      ],
      "metadata": {
        "colab": {
          "base_uri": "https://localhost:8080/"
        },
        "id": "ekzzjITMDXHV",
        "outputId": "c157fec1-0d08-4d81-e452-18602270e367"
      },
      "execution_count": null,
      "outputs": [
        {
          "output_type": "stream",
          "name": "stdout",
          "text": [
            "Hello\n"
          ]
        }
      ]
    },
    {
      "cell_type": "code",
      "source": [
        "varlist.append('World')\n",
        "print(varlist[6])"
      ],
      "metadata": {
        "colab": {
          "base_uri": "https://localhost:8080/"
        },
        "id": "cQhaWiWDDc_0",
        "outputId": "87f20c71-51b5-4f07-9b67-75b6ecd09e8e"
      },
      "execution_count": null,
      "outputs": [
        {
          "output_type": "stream",
          "name": "stdout",
          "text": [
            "World\n"
          ]
        }
      ]
    },
    {
      "cell_type": "code",
      "source": [
        "len(varlist)"
      ],
      "metadata": {
        "colab": {
          "base_uri": "https://localhost:8080/"
        },
        "id": "77jk-thbDmdE",
        "outputId": "dcd51520-83fb-4503-87a4-5a03059a90b1"
      },
      "execution_count": null,
      "outputs": [
        {
          "output_type": "execute_result",
          "data": {
            "text/plain": [
              "7"
            ]
          },
          "metadata": {},
          "execution_count": 10
        }
      ]
    },
    {
      "cell_type": "code",
      "source": [
        "print(varlist[5])"
      ],
      "metadata": {
        "colab": {
          "base_uri": "https://localhost:8080/"
        },
        "id": "4iNRJ4K_DozF",
        "outputId": "7087e89d-e932-4e5a-80fd-4f2f546d5db0"
      },
      "execution_count": null,
      "outputs": [
        {
          "output_type": "stream",
          "name": "stdout",
          "text": [
            "3.14159\n"
          ]
        }
      ]
    },
    {
      "cell_type": "code",
      "source": [
        "varlist.remove(pi)\n",
        "print(varlist[5])"
      ],
      "metadata": {
        "colab": {
          "base_uri": "https://localhost:8080/"
        },
        "id": "MxaSMD_BDz7E",
        "outputId": "c350ce76-4e94-4cfd-9802-f3bf375ca258"
      },
      "execution_count": null,
      "outputs": [
        {
          "output_type": "stream",
          "name": "stdout",
          "text": [
            "World\n"
          ]
        }
      ]
    },
    {
      "cell_type": "markdown",
      "source": [
        "**Dictionaries**"
      ],
      "metadata": {
        "id": "9HJY_VuHD_Ce"
      }
    },
    {
      "cell_type": "code",
      "source": [
        "var = \"Hello World!\"\n",
        "varDict ={'first' : 123, 2 :'abc', '3':var, 4:['lista', 'listb']}\n",
        "print(varDict['first'])"
      ],
      "metadata": {
        "colab": {
          "base_uri": "https://localhost:8080/"
        },
        "id": "DzO-fg7REC0c",
        "outputId": "e7bab6f1-ada8-45ab-b0b3-d85d933abb8f"
      },
      "execution_count": null,
      "outputs": [
        {
          "output_type": "stream",
          "name": "stdout",
          "text": [
            "123\n"
          ]
        }
      ]
    },
    {
      "cell_type": "code",
      "source": [
        "print(varDict[2])"
      ],
      "metadata": {
        "colab": {
          "base_uri": "https://localhost:8080/"
        },
        "id": "gcu5xn_mFHZk",
        "outputId": "589a2842-1e4b-4c46-ae8a-018bdb7ee2c8"
      },
      "execution_count": null,
      "outputs": [
        {
          "output_type": "stream",
          "name": "stdout",
          "text": [
            "abc\n"
          ]
        }
      ]
    },
    {
      "cell_type": "code",
      "source": [
        "print(varDict['3'])"
      ],
      "metadata": {
        "colab": {
          "base_uri": "https://localhost:8080/"
        },
        "id": "AMw0xhKGFMlM",
        "outputId": "07aeaeb4-bffd-4208-ffc5-77befed61f21"
      },
      "execution_count": null,
      "outputs": [
        {
          "output_type": "stream",
          "name": "stdout",
          "text": [
            "Hello World!\n"
          ]
        }
      ]
    },
    {
      "cell_type": "code",
      "source": [
        "print(varDict[4])"
      ],
      "metadata": {
        "colab": {
          "base_uri": "https://localhost:8080/"
        },
        "id": "zKLZSCxbFTaE",
        "outputId": "350402c9-8213-4b64-e65c-4ce94bfc3b2b"
      },
      "execution_count": null,
      "outputs": [
        {
          "output_type": "stream",
          "name": "stdout",
          "text": [
            "['lista', 'listb']\n"
          ]
        }
      ]
    },
    {
      "cell_type": "code",
      "source": [
        "print(varDict[4][1])"
      ],
      "metadata": {
        "colab": {
          "base_uri": "https://localhost:8080/"
        },
        "id": "nHtHCThvFY8W",
        "outputId": "4862bedd-f827-4228-f7f4-9697c0968208"
      },
      "execution_count": null,
      "outputs": [
        {
          "output_type": "stream",
          "name": "stdout",
          "text": [
            "listb\n"
          ]
        }
      ]
    },
    {
      "cell_type": "code",
      "source": [
        "len(varDict)"
      ],
      "metadata": {
        "colab": {
          "base_uri": "https://localhost:8080/"
        },
        "id": "QcQTLImaFcCf",
        "outputId": "5f4f887d-d806-4967-bb24-6bb798ddb013"
      },
      "execution_count": null,
      "outputs": [
        {
          "output_type": "execute_result",
          "data": {
            "text/plain": [
              "4"
            ]
          },
          "metadata": {},
          "execution_count": 24
        }
      ]
    },
    {
      "cell_type": "code",
      "source": [
        "studentDict = {\n",
        "    'student' : 'name',\n",
        "    'bday' : 42903,\n",
        "    'age' : 21,\n",
        "\n",
        "}\n",
        "print(studentDict['age'])"
      ],
      "metadata": {
        "colab": {
          "base_uri": "https://localhost:8080/"
        },
        "id": "N0DFLbUGHEaM",
        "outputId": "ad7ef15d-5f7a-4f1f-b802-3030a72269dd"
      },
      "execution_count": null,
      "outputs": [
        {
          "output_type": "stream",
          "name": "stdout",
          "text": [
            "21\n"
          ]
        }
      ]
    },
    {
      "cell_type": "markdown",
      "source": [
        "List Generators and Comprehension\n",
        "\n",
        "Generators can be used to build list in the memory as objects"
      ],
      "metadata": {
        "id": "iHvw8aeXF091"
      }
    },
    {
      "cell_type": "code",
      "source": [
        "def gen_num_up_to(n):\n",
        "  num = 0\n",
        "  while num < n:\n",
        "    yield num\n",
        "    num += 1\n"
      ],
      "metadata": {
        "id": "Q_s2tA0bF-tV"
      },
      "execution_count": null,
      "outputs": []
    },
    {
      "cell_type": "code",
      "source": [
        "    gen_num_up_to(5)"
      ],
      "metadata": {
        "colab": {
          "base_uri": "https://localhost:8080/"
        },
        "id": "rd73VJd6GYHs",
        "outputId": "7dfc703a-676a-4d98-a286-a344b18da6f0"
      },
      "execution_count": null,
      "outputs": [
        {
          "output_type": "execute_result",
          "data": {
            "text/plain": [
              "<generator object gen_num_up_to at 0x7937ea3eb760>"
            ]
          },
          "metadata": {},
          "execution_count": 28
        }
      ]
    },
    {
      "cell_type": "code",
      "source": [
        "varlist = gen_num_up_to(5)\n",
        "print([var for var in varlist])"
      ],
      "metadata": {
        "colab": {
          "base_uri": "https://localhost:8080/"
        },
        "id": "WWZie3o3GMT8",
        "outputId": "ae5bbb09-aedd-47b6-a7d5-80099c7ca65d"
      },
      "execution_count": null,
      "outputs": [
        {
          "output_type": "stream",
          "name": "stdout",
          "text": [
            "[0, 1, 2, 3, 4]\n"
          ]
        }
      ]
    },
    {
      "cell_type": "code",
      "source": [
        "def gen_num_up_to(n):\n",
        "  num = 0\n",
        "  while num < n:\n",
        "    yield num\n",
        "    num += 2\n",
        "\n",
        "varlist = gen_num_up_to(5)\n",
        "print([var for var in varlist])"
      ],
      "metadata": {
        "colab": {
          "base_uri": "https://localhost:8080/"
        },
        "id": "W7otr0fOGjLs",
        "outputId": "a1babcea-33c7-4dce-fca8-9ecb1984b81c"
      },
      "execution_count": null,
      "outputs": [
        {
          "output_type": "stream",
          "name": "stdout",
          "text": [
            "[0, 2, 4]\n"
          ]
        }
      ]
    },
    {
      "cell_type": "code",
      "source": [
        "varlist = range(0, 5, 2)\n",
        "print([var for var in varlist])"
      ],
      "metadata": {
        "colab": {
          "base_uri": "https://localhost:8080/"
        },
        "id": "fizU-0-WGpOk",
        "outputId": "c80ee01f-ea50-44ef-9857-bbd0cfd66eda"
      },
      "execution_count": null,
      "outputs": [
        {
          "output_type": "stream",
          "name": "stdout",
          "text": [
            "[0, 2, 4]\n"
          ]
        }
      ]
    },
    {
      "cell_type": "markdown",
      "source": [
        "**Slicing**"
      ],
      "metadata": {
        "id": "zQLgYQpNHlXk"
      }
    },
    {
      "cell_type": "code",
      "source": [
        "varlist = [1, 2, 3, 4, 5, 6, 7, 8, 9, 10]\n",
        "print(varlist[:5])\n"
      ],
      "metadata": {
        "colab": {
          "base_uri": "https://localhost:8080/"
        },
        "id": "O-yYeyjZHmqU",
        "outputId": "537f52d0-547c-45e9-ed7b-9f9632edea67"
      },
      "execution_count": null,
      "outputs": [
        {
          "output_type": "stream",
          "name": "stdout",
          "text": [
            "[1, 2, 3, 4, 5]\n"
          ]
        }
      ]
    },
    {
      "cell_type": "code",
      "source": [
        "print(varlist[5:])"
      ],
      "metadata": {
        "colab": {
          "base_uri": "https://localhost:8080/"
        },
        "id": "1C-vWQ3jHwPs",
        "outputId": "32d22b6a-2aee-4d82-ea86-023cd02e2d42"
      },
      "execution_count": null,
      "outputs": [
        {
          "output_type": "stream",
          "name": "stdout",
          "text": [
            "[6, 7, 8, 9, 10]\n"
          ]
        }
      ]
    },
    {
      "cell_type": "code",
      "source": [
        "print(varlist[:-2])"
      ],
      "metadata": {
        "colab": {
          "base_uri": "https://localhost:8080/"
        },
        "id": "QNNO_JbAID3l",
        "outputId": "ec87cc6f-4009-4a07-c25d-948a8a7ec04b"
      },
      "execution_count": null,
      "outputs": [
        {
          "output_type": "stream",
          "name": "stdout",
          "text": [
            "[1, 2, 3, 4, 5, 6, 7, 8]\n"
          ]
        }
      ]
    },
    {
      "cell_type": "code",
      "source": [
        "print(varlist[-2:])"
      ],
      "metadata": {
        "colab": {
          "base_uri": "https://localhost:8080/"
        },
        "id": "xhQ5m26kIIx8",
        "outputId": "dfe2db74-18be-439c-f86c-f562e8e19007"
      },
      "execution_count": null,
      "outputs": [
        {
          "output_type": "stream",
          "name": "stdout",
          "text": [
            "[9, 10]\n"
          ]
        }
      ]
    },
    {
      "cell_type": "code",
      "source": [
        "print(varlist[2:-2])"
      ],
      "metadata": {
        "colab": {
          "base_uri": "https://localhost:8080/"
        },
        "id": "K21VakvvINcM",
        "outputId": "398ab943-0bce-457f-e49c-33bbda37fee3"
      },
      "execution_count": null,
      "outputs": [
        {
          "output_type": "stream",
          "name": "stdout",
          "text": [
            "[3, 4, 5, 6, 7, 8]\n"
          ]
        }
      ]
    },
    {
      "cell_type": "code",
      "source": [
        "print(varlist[2:8:2])\n",
        "\n",
        "# list(start :)\n",
        "# list(:end)\n",
        "# list(start:end)\n",
        "# list(start:end:step)"
      ],
      "metadata": {
        "colab": {
          "base_uri": "https://localhost:8080/"
        },
        "id": "t-wOOirqIRNs",
        "outputId": "f7e5334d-57ab-47b1-8bb4-ee79e20ff387"
      },
      "execution_count": null,
      "outputs": [
        {
          "output_type": "stream",
          "name": "stdout",
          "text": [
            "[3, 5, 7]\n"
          ]
        }
      ]
    }
  ]
}