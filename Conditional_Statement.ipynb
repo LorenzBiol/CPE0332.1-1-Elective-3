{
  "nbformat": 4,
  "nbformat_minor": 0,
  "metadata": {
    "colab": {
      "provenance": [],
      "toc_visible": true,
      "authorship_tag": "ABX9TyPqajoTsxLhZ69yzMWl8dM8",
      "include_colab_link": true
    },
    "kernelspec": {
      "name": "python3",
      "display_name": "Python 3"
    },
    "language_info": {
      "name": "python"
    }
  },
  "cells": [
    {
      "cell_type": "markdown",
      "metadata": {
        "id": "view-in-github",
        "colab_type": "text"
      },
      "source": [
        "<a href=\"https://colab.research.google.com/github/LorenzBiol/CPE0332.1-1-Elective-3/blob/main/Conditional_Statement.ipynb\" target=\"_parent\"><img src=\"https://colab.research.google.com/assets/colab-badge.svg\" alt=\"Open In Colab\"/></a>"
      ]
    },
    {
      "cell_type": "markdown",
      "source": [
        "If statement\n"
      ],
      "metadata": {
        "id": "DuF96btbCQW2"
      }
    },
    {
      "cell_type": "code",
      "source": [
        "a = 12\n",
        "b = 100\n",
        "\n",
        "if a<b:\n",
        "  print(\"a is less than b\")"
      ],
      "metadata": {
        "colab": {
          "base_uri": "https://localhost:8080/"
        },
        "id": "arTvac6UCSg2",
        "outputId": "07ece1a5-d21f-401a-efc8-62a793557ba0"
      },
      "execution_count": 3,
      "outputs": [
        {
          "output_type": "stream",
          "name": "stdout",
          "text": [
            "a is less than b\n"
          ]
        }
      ]
    },
    {
      "cell_type": "markdown",
      "source": [
        "Elif Statement"
      ],
      "metadata": {
        "id": "vZzhPvb7Cn94"
      }
    },
    {
      "cell_type": "code",
      "source": [
        "age = input (\"What is your age? \")\n",
        "age = int(age)\n",
        "\n",
        "if age >= 18:\n",
        "  print(\"You are qualified to get a license\")\n",
        "elif age < 18:\n",
        "  print(\"You are NOT qualified to get a license\")"
      ],
      "metadata": {
        "colab": {
          "base_uri": "https://localhost:8080/"
        },
        "id": "Gx1CuueLCpwj",
        "outputId": "106c17fa-4bc3-44ba-dd04-391b7912de10"
      },
      "execution_count": 18,
      "outputs": [
        {
          "output_type": "stream",
          "name": "stdout",
          "text": [
            "What is your age? 19\n",
            "You are qualified to get a license\n"
          ]
        }
      ]
    },
    {
      "cell_type": "code",
      "source": [],
      "metadata": {
        "id": "CPfI3IfyDMar"
      },
      "execution_count": null,
      "outputs": []
    },
    {
      "cell_type": "markdown",
      "source": [
        "Else Statement"
      ],
      "metadata": {
        "id": "a_vUcyisElyo"
      }
    },
    {
      "cell_type": "code",
      "source": [
        "print(\"Enter an integer: \" )\n",
        "x = int(input())\n",
        "\n",
        "if x >= 0:\n",
        "  print(\"Positive\")\n",
        "else:\n",
        "  print(\"Negative\")"
      ],
      "metadata": {
        "colab": {
          "base_uri": "https://localhost:8080/"
        },
        "id": "Q86kh_1WEpDb",
        "outputId": "416ad16c-bd8a-4eec-a2c7-832d69c7040e"
      },
      "execution_count": 25,
      "outputs": [
        {
          "output_type": "stream",
          "name": "stdout",
          "text": [
            "Enter an integer: \n",
            "-1\n",
            "Negative\n"
          ]
        }
      ]
    },
    {
      "cell_type": "markdown",
      "source": [
        "Short Hand if Statement"
      ],
      "metadata": {
        "id": "F0F_hfczFbOu"
      }
    },
    {
      "cell_type": "code",
      "source": [
        "if a<b: print(\"a is less than b\")"
      ],
      "metadata": {
        "colab": {
          "base_uri": "https://localhost:8080/"
        },
        "id": "MARIPnYvFeQ4",
        "outputId": "16ce5134-ddee-4890-8242-b7f61018f2d7"
      },
      "execution_count": 26,
      "outputs": [
        {
          "output_type": "stream",
          "name": "stdout",
          "text": [
            "a is less than b\n"
          ]
        }
      ]
    },
    {
      "cell_type": "markdown",
      "source": [
        "Short Hand if..Else Statement"
      ],
      "metadata": {
        "id": "eVAmNY3fF_OS"
      }
    },
    {
      "cell_type": "code",
      "source": [
        "print(\"a is greater than b\") if a>b else print(\"b is greater than a\")"
      ],
      "metadata": {
        "colab": {
          "base_uri": "https://localhost:8080/"
        },
        "id": "fkxW4eKAF-IC",
        "outputId": "2877d2cd-deb0-46bb-d341-dca9259b3ba8"
      },
      "execution_count": 27,
      "outputs": [
        {
          "output_type": "stream",
          "name": "stdout",
          "text": [
            "b is greater than a\n"
          ]
        }
      ]
    },
    {
      "cell_type": "markdown",
      "source": [
        "And Statement"
      ],
      "metadata": {
        "id": "xLb9yrfQGh5W"
      }
    },
    {
      "cell_type": "code",
      "source": [
        "c = 500\n",
        "if a > b and c > a:\n",
        "  print(\"Both conditions are True\")"
      ],
      "metadata": {
        "id": "N40Mqr59Gj6_"
      },
      "execution_count": 30,
      "outputs": []
    },
    {
      "cell_type": "markdown",
      "source": [
        "Or Statement"
      ],
      "metadata": {
        "id": "6FtsNDP_HPSv"
      }
    },
    {
      "cell_type": "code",
      "source": [
        "if a < b or c>a:\n",
        "  print(\"Both statements are true\")\n",
        ""
      ],
      "metadata": {
        "colab": {
          "base_uri": "https://localhost:8080/"
        },
        "id": "fvvRJ4E8Hivi",
        "outputId": "106024b6-f5b8-4ab3-c930-ab64d8efb2ca"
      },
      "execution_count": 31,
      "outputs": [
        {
          "output_type": "stream",
          "name": "stdout",
          "text": [
            "Both statements are true\n"
          ]
        }
      ]
    },
    {
      "cell_type": "markdown",
      "source": [
        "Nested If Statement"
      ],
      "metadata": {
        "id": "HMKYd4xlH8EQ"
      }
    },
    {
      "cell_type": "code",
      "source": [
        "print(\"Enter an Integer: \")\n",
        "x = int(input())\n",
        "\n",
        "if x>10:\n",
        "  print(\"Above ten,\")\n",
        "  if x>20:\n",
        "    print(\"and also above 20!\")\n",
        "    if x>30:\n",
        "      print(\"and also above 30!\")\n",
        "      if x>40:\n",
        "        print(\"and also above 40!\")\n",
        "        if x>50:\n",
        "          print(\"and also above 50!\")\n",
        "        else:\n",
        "          print(\"but not above 50.\")\n"
      ],
      "metadata": {
        "colab": {
          "base_uri": "https://localhost:8080/"
        },
        "id": "J3GRYnipH-FZ",
        "outputId": "a0df2be1-3ffb-4b0d-c560-b3ab338bcff0"
      },
      "execution_count": 47,
      "outputs": [
        {
          "name": "stdout",
          "output_type": "stream",
          "text": [
            "Enter an Integer: \n",
            "10\n"
          ]
        }
      ]
    },
    {
      "cell_type": "code",
      "source": [],
      "metadata": {
        "id": "C6OfvFYTIWSv"
      },
      "execution_count": null,
      "outputs": []
    }
  ]
}